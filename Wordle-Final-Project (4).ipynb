{
 "cells": [
  {
   "cell_type": "markdown",
   "metadata": {},
   "source": [
    "\n",
    "## Imports"
   ]
  },
  {
   "cell_type": "code",
   "execution_count": 235,
   "metadata": {
    "ExecuteTime": {
     "end_time": "2022-08-30T11:50:49.193566Z",
     "start_time": "2022-08-30T11:50:48.633466Z"
    }
   },
   "outputs": [],
   "source": [
    "import pandas as pd\n",
    "import random"
   ]
  },
  {
   "cell_type": "code",
   "execution_count": 236,
   "metadata": {},
   "outputs": [],
   "source": [
    "import sys\n",
    "from docplex.cp.model import CpoModel\n",
    "mdl = CpoModel()\n",
    "w = mdl.integer_var_list(5,min=0,max=25,name=\"w\")"
   ]
  },
  {
   "cell_type": "code",
   "execution_count": 237,
   "metadata": {},
   "outputs": [],
   "source": [
    "# convert a word represented as an array of chars into a string\n",
    "def convert_array_to_string(w):\n",
    "    str = \"\"\n",
    "    for i in range(len(w)):\n",
    "        str += w[i]\n",
    "    return str\n",
    "\n",
    "# get a set of words as strings \n",
    "def get_set_of_words(fileName):\n",
    "    words_raw = pd.read_csv(fileName)\n",
    "    words = words_raw['words']\n",
    "    Words = set()\n",
    "    for i in range(len(words)):\n",
    "        if len(words[i]) > 5:\n",
    "            continue\n",
    "        Words.add(convert_array_to_string(words[i]))\n",
    "    return Words"
   ]
  },
  {
   "cell_type": "code",
   "execution_count": null,
   "metadata": {},
   "outputs": [],
   "source": []
  },
  {
   "cell_type": "code",
   "execution_count": 238,
   "metadata": {},
   "outputs": [],
   "source": [
    "# this function returns a guess that is consistent with the prior history of guesses and the set of Words\n",
    "# input:\n",
    "#       a set of words represented as strings\n",
    "#       a history of prior guesses and their assessments: \n",
    "#       the history is an array whose elements are (guess,nb_correct,nb_present) where\n",
    "#       guess is a string, nb_correct is the number of correct letters and nb_position is the number of letters \n",
    "#       that are present but incorrectly placed. \n",
    "# output:\n",
    "#       a new guess as a string\n",
    "\n",
    "def guess(Words,history):\n",
    "    numberArray = []\n",
    "    wordArray = []\n",
    "    for a in Words:\n",
    "        for c in a:\n",
    "            Order = ord(c)-97\n",
    "            numberArray.append(Order)\n",
    "        wordArray.append(numberArray)\n",
    "        numberArray = []\n",
    "    mdl.add(mdl.allowed_assignments(w,wordArray)) # Allow combination of the dvar word with number array\n",
    "    \n",
    "    pastGuess = []\n",
    "    numberlist = []\n",
    "    historylist = []\n",
    "    for h in range(len(history)):\n",
    "        pastGuess.append(history[h][0])\n",
    "    for g in pastGuess:\n",
    "        for c in g:\n",
    "            historylist.append(ord(c)-97)\n",
    "        historylist.append(numberlist)\n",
    "        numberlist = []\n",
    "    mdl.add(mdl.forbidden_assignments(w,historylist)) # Prohibit the repetition of guess. \n",
    "    \n",
    "    for h in range(len(history)):\n",
    "        if history[h][2] == 0 and histroy[h][1] == 0:\n",
    "            mdl.add(w[j] != historylist[h][i] for i in range(5) for j in range(5)) # Have new guess with all different letters than the old one\n",
    "    for h in history:\n",
    "        if h[1]!= 0:\n",
    "            mdl.add(mdl.sum((w[i] + 97) == ord(h[0][i]) for i in range(5)) == h[1]) # For nbCorrect\n",
    "    for h in history:\n",
    "        if h[2] != 0:\n",
    "            wordd = [ord(i-97) for i in h[0]]\n",
    "            mdl.add(mdl.sum(mdl.count(w,ord(h[0][i]) - 97)/mdl.count(wordd,ord(h[0][i]) - 97) for i in range(5)) >= h[1] + h[2]) # For nbPresent\n",
    "            \n",
    "    slist = []\n",
    "    sol = mdl.solve()\n",
    "    Solutions = sol.get_all_var_solutions() # Retrieve all the solutions\n",
    "    \n",
    "    for s in Solutions:\n",
    "        slist.append(s.get_value())\n",
    "    \n",
    "    guess = convert_array_to_string([chr(i + 97) for i in slist]) # Return guess value\n",
    "    return guess\n",
    "    "
   ]
  },
  {
   "cell_type": "code",
   "execution_count": 239,
   "metadata": {},
   "outputs": [],
   "source": [
    "# this function returns a secret word from the set of Words\n",
    "def select_secret_word(Words):\n",
    "    return random.sample(Words,1)[0]"
   ]
  },
  {
   "cell_type": "code",
   "execution_count": 240,
   "metadata": {},
   "outputs": [],
   "source": [
    "# this function computes the score (nb_correct,nb_present) for the guess given the secret word\n",
    "\n",
    "def compute_scores(secret,guess):\n",
    "    nbCorrect = 0\n",
    "    nbPresent = 0\n",
    "    for i in range(5):\n",
    "        if guess[i] == secret[i]:\n",
    "            nbCorrect = nbCorrect + 1\n",
    "        if guess.count(guess[i]) == 1 and guess[i] in secret and guess[i] != secret[i]:\n",
    "            nbPresent = nbPresent + 1\n",
    "    return (nbCorrect,nbPresent)"
   ]
  },
  {
   "cell_type": "code",
   "execution_count": 241,
   "metadata": {},
   "outputs": [],
   "source": [
    "# this function plays the game with the list of words in the file name\n",
    "def play_wordle(fileName):\n",
    "    Words = get_set_of_words(fileName)\n",
    "    secret = select_secret_word(Words)\n",
    "    print(\"secret:\",secret)\n",
    "    history = []\n",
    "    i = 0\n",
    "    while True:\n",
    "        g = guess(Words,history)\n",
    "        print(\"guess :\",g) \n",
    "        (nbCorrect,nbPresent) = compute_scores(secret,g)\n",
    "        print(\"\\t correct:\",nbCorrect,\" present:\",nbPresent)\n",
    "        if nbCorrect == len(secret):\n",
    "            break\n",
    "        history.append((g,nbCorrect,nbPresent))"
   ]
  },
  {
   "cell_type": "code",
   "execution_count": 242,
   "metadata": {},
   "outputs": [
    {
     "name": "stdout",
     "output_type": "stream",
     "text": [
      "secret: laugh\n",
      " ! --------------------------------------------------- CP Optimizer 22.1.0.0 --\n",
      " ! Satisfiability problem - 5 variables, 2 constraints\n",
      " ! Initial process time : 0.02s (0.02s extraction + 0.00s propagation)\n",
      " !  . Log search space  : 23.2 (before), 23.2 (after)\n",
      " !  . Memory usage      : 1.3 MB (before), 1.3 MB (after)\n",
      " ! Using parallel search with 12 workers.\n",
      " ! ----------------------------------------------------------------------------\n",
      " !               Branches  Non-fixed    W       Branch decision\n",
      " *                      4  0.05s        1        18  = w_0\n",
      " ! ----------------------------------------------------------------------------\n",
      " ! Search completed, 1 solution found.\n",
      " ! ----------------------------------------------------------------------------\n",
      " ! Number of branches     : 98\n",
      " ! Number of fails        : 30\n",
      " ! Total memory usage     : 19.6 MB (19.6 MB CP Optimizer + 0.0 MB Concert)\n",
      " ! Time spent in solve    : 0.05s (0.04s engine + 0.02s extraction)\n",
      " ! Search speed (br. / s) : 3161.3\n",
      " ! ----------------------------------------------------------------------------\n",
      "guess : sunny\n",
      "\t correct: 0  present: 1\n"
     ]
    },
    {
     "ename": "CpoException",
     "evalue": "Impossible to build a tuple set from value '[18, 20, 13, 13, 24, []]' of type '<class 'list'>'",
     "output_type": "error",
     "traceback": [
      "\u001b[1;31m---------------------------------------------------------------------------\u001b[0m",
      "\u001b[1;31mTypeError\u001b[0m                                 Traceback (most recent call last)",
      "\u001b[1;32m~\\anaconda3\\lib\\site-packages\\docplex\\cp\\expression.py\u001b[0m in \u001b[0;36mnormalize_value\u001b[1;34m(val)\u001b[0m\n\u001b[0;32m   2441\u001b[0m         \u001b[1;32mtry\u001b[0m\u001b[1;33m:\u001b[0m\u001b[1;33m\u001b[0m\u001b[1;33m\u001b[0m\u001b[0m\n\u001b[1;32m-> 2442\u001b[1;33m             \u001b[1;32mreturn\u001b[0m \u001b[0mtuple\u001b[0m\u001b[1;33m(\u001b[0m\u001b[0mtuple\u001b[0m\u001b[1;33m(\u001b[0m\u001b[0mx\u001b[0m\u001b[1;33m)\u001b[0m \u001b[1;32mfor\u001b[0m \u001b[0mx\u001b[0m \u001b[1;32min\u001b[0m \u001b[0mval\u001b[0m\u001b[1;33m)\u001b[0m\u001b[1;33m\u001b[0m\u001b[1;33m\u001b[0m\u001b[0m\n\u001b[0m\u001b[0;32m   2443\u001b[0m         \u001b[1;32mexcept\u001b[0m \u001b[0mTypeError\u001b[0m\u001b[1;33m:\u001b[0m\u001b[1;33m\u001b[0m\u001b[1;33m\u001b[0m\u001b[0m\n",
      "\u001b[1;32m~\\anaconda3\\lib\\site-packages\\docplex\\cp\\expression.py\u001b[0m in \u001b[0;36m<genexpr>\u001b[1;34m(.0)\u001b[0m\n\u001b[0;32m   2441\u001b[0m         \u001b[1;32mtry\u001b[0m\u001b[1;33m:\u001b[0m\u001b[1;33m\u001b[0m\u001b[1;33m\u001b[0m\u001b[0m\n\u001b[1;32m-> 2442\u001b[1;33m             \u001b[1;32mreturn\u001b[0m \u001b[0mtuple\u001b[0m\u001b[1;33m(\u001b[0m\u001b[0mtuple\u001b[0m\u001b[1;33m(\u001b[0m\u001b[0mx\u001b[0m\u001b[1;33m)\u001b[0m \u001b[1;32mfor\u001b[0m \u001b[0mx\u001b[0m \u001b[1;32min\u001b[0m \u001b[0mval\u001b[0m\u001b[1;33m)\u001b[0m\u001b[1;33m\u001b[0m\u001b[1;33m\u001b[0m\u001b[0m\n\u001b[0m\u001b[0;32m   2443\u001b[0m         \u001b[1;32mexcept\u001b[0m \u001b[0mTypeError\u001b[0m\u001b[1;33m:\u001b[0m\u001b[1;33m\u001b[0m\u001b[1;33m\u001b[0m\u001b[0m\n",
      "\u001b[1;31mTypeError\u001b[0m: 'int' object is not iterable",
      "\nDuring handling of the above exception, another exception occurred:\n",
      "\u001b[1;31mCpoException\u001b[0m                              Traceback (most recent call last)",
      "\u001b[1;32m<ipython-input-242-52ee1c7acac2>\u001b[0m in \u001b[0;36m<module>\u001b[1;34m\u001b[0m\n\u001b[1;32m----> 1\u001b[1;33m \u001b[0mplay_wordle\u001b[0m\u001b[1;33m(\u001b[0m\u001b[1;34m'5-letter-words.csv'\u001b[0m\u001b[1;33m)\u001b[0m\u001b[1;33m\u001b[0m\u001b[1;33m\u001b[0m\u001b[0m\n\u001b[0m",
      "\u001b[1;32m<ipython-input-241-e6249cb788c3>\u001b[0m in \u001b[0;36mplay_wordle\u001b[1;34m(fileName)\u001b[0m\n\u001b[0;32m      7\u001b[0m     \u001b[0mi\u001b[0m \u001b[1;33m=\u001b[0m \u001b[1;36m0\u001b[0m\u001b[1;33m\u001b[0m\u001b[1;33m\u001b[0m\u001b[0m\n\u001b[0;32m      8\u001b[0m     \u001b[1;32mwhile\u001b[0m \u001b[1;32mTrue\u001b[0m\u001b[1;33m:\u001b[0m\u001b[1;33m\u001b[0m\u001b[1;33m\u001b[0m\u001b[0m\n\u001b[1;32m----> 9\u001b[1;33m         \u001b[0mg\u001b[0m \u001b[1;33m=\u001b[0m \u001b[0mguess\u001b[0m\u001b[1;33m(\u001b[0m\u001b[0mWords\u001b[0m\u001b[1;33m,\u001b[0m\u001b[0mhistory\u001b[0m\u001b[1;33m)\u001b[0m\u001b[1;33m\u001b[0m\u001b[1;33m\u001b[0m\u001b[0m\n\u001b[0m\u001b[0;32m     10\u001b[0m         \u001b[0mprint\u001b[0m\u001b[1;33m(\u001b[0m\u001b[1;34m\"guess :\"\u001b[0m\u001b[1;33m,\u001b[0m\u001b[0mg\u001b[0m\u001b[1;33m)\u001b[0m\u001b[1;33m\u001b[0m\u001b[1;33m\u001b[0m\u001b[0m\n\u001b[0;32m     11\u001b[0m         \u001b[1;33m(\u001b[0m\u001b[0mnbCorrect\u001b[0m\u001b[1;33m,\u001b[0m\u001b[0mnbPresent\u001b[0m\u001b[1;33m)\u001b[0m \u001b[1;33m=\u001b[0m \u001b[0mcompute_scores\u001b[0m\u001b[1;33m(\u001b[0m\u001b[0msecret\u001b[0m\u001b[1;33m,\u001b[0m\u001b[0mg\u001b[0m\u001b[1;33m)\u001b[0m\u001b[1;33m\u001b[0m\u001b[1;33m\u001b[0m\u001b[0m\n",
      "\u001b[1;32m<ipython-input-238-ebd56dc0be5f>\u001b[0m in \u001b[0;36mguess\u001b[1;34m(Words, history)\u001b[0m\n\u001b[0;32m     30\u001b[0m         \u001b[0mhistorylist\u001b[0m\u001b[1;33m.\u001b[0m\u001b[0mappend\u001b[0m\u001b[1;33m(\u001b[0m\u001b[0mnumberlist\u001b[0m\u001b[1;33m)\u001b[0m\u001b[1;33m\u001b[0m\u001b[1;33m\u001b[0m\u001b[0m\n\u001b[0;32m     31\u001b[0m         \u001b[0mnumberlist\u001b[0m \u001b[1;33m=\u001b[0m \u001b[1;33m[\u001b[0m\u001b[1;33m]\u001b[0m\u001b[1;33m\u001b[0m\u001b[1;33m\u001b[0m\u001b[0m\n\u001b[1;32m---> 32\u001b[1;33m     \u001b[0mmdl\u001b[0m\u001b[1;33m.\u001b[0m\u001b[0madd\u001b[0m\u001b[1;33m(\u001b[0m\u001b[0mmdl\u001b[0m\u001b[1;33m.\u001b[0m\u001b[0mforbidden_assignments\u001b[0m\u001b[1;33m(\u001b[0m\u001b[0mw\u001b[0m\u001b[1;33m,\u001b[0m\u001b[0mhistorylist\u001b[0m\u001b[1;33m)\u001b[0m\u001b[1;33m)\u001b[0m \u001b[1;31m# Prohibit the repetition of guess.\u001b[0m\u001b[1;33m\u001b[0m\u001b[1;33m\u001b[0m\u001b[0m\n\u001b[0m\u001b[0;32m     33\u001b[0m \u001b[1;33m\u001b[0m\u001b[0m\n\u001b[0;32m     34\u001b[0m     \u001b[1;32mfor\u001b[0m \u001b[0mh\u001b[0m \u001b[1;32min\u001b[0m \u001b[0mrange\u001b[0m\u001b[1;33m(\u001b[0m\u001b[0mlen\u001b[0m\u001b[1;33m(\u001b[0m\u001b[0mhistory\u001b[0m\u001b[1;33m)\u001b[0m\u001b[1;33m)\u001b[0m\u001b[1;33m:\u001b[0m\u001b[1;33m\u001b[0m\u001b[1;33m\u001b[0m\u001b[0m\n",
      "\u001b[1;32m~\\anaconda3\\lib\\site-packages\\docplex\\cp\\modeler.py\u001b[0m in \u001b[0;36mforbidden_assignments\u001b[1;34m(exprs, values)\u001b[0m\n\u001b[0;32m   1707\u001b[0m     \u001b[1;31m# 'expr' is an array of expressions, and 'values' a tupleset\u001b[0m\u001b[1;33m\u001b[0m\u001b[1;33m\u001b[0m\u001b[1;33m\u001b[0m\u001b[0m\n\u001b[0;32m   1708\u001b[0m     \u001b[1;32massert\u001b[0m \u001b[0mexprs\u001b[0m\u001b[1;33m.\u001b[0m\u001b[0mis_kind_of\u001b[0m\u001b[1;33m(\u001b[0m\u001b[0mType_IntExprArray\u001b[0m\u001b[1;33m)\u001b[0m\u001b[1;33m,\u001b[0m \u001b[1;34m\"Argument 'exprs' should be an array of integer or an array of integer expressions\"\u001b[0m\u001b[1;33m\u001b[0m\u001b[1;33m\u001b[0m\u001b[0m\n\u001b[1;32m-> 1709\u001b[1;33m     \u001b[0mtset\u001b[0m \u001b[1;33m=\u001b[0m \u001b[0mbuild_cpo_tupleset\u001b[0m\u001b[1;33m(\u001b[0m\u001b[0mvalues\u001b[0m\u001b[1;33m)\u001b[0m\u001b[1;33m\u001b[0m\u001b[1;33m\u001b[0m\u001b[0m\n\u001b[0m\u001b[0;32m   1710\u001b[0m     \u001b[0mtvals\u001b[0m \u001b[1;33m=\u001b[0m \u001b[0mtset\u001b[0m\u001b[1;33m.\u001b[0m\u001b[0mvalue\u001b[0m\u001b[1;33m\u001b[0m\u001b[1;33m\u001b[0m\u001b[0m\n\u001b[0;32m   1711\u001b[0m     \u001b[1;32mif\u001b[0m \u001b[0mtvals\u001b[0m\u001b[1;33m:\u001b[0m\u001b[1;33m\u001b[0m\u001b[1;33m\u001b[0m\u001b[0m\n",
      "\u001b[1;32m~\\anaconda3\\lib\\site-packages\\docplex\\cp\\expression.py\u001b[0m in \u001b[0;36mbuild_cpo_tupleset\u001b[1;34m(val)\u001b[0m\n\u001b[0;32m   2451\u001b[0m     \u001b[1;31m# Check if already in the cache\u001b[0m\u001b[1;33m\u001b[0m\u001b[1;33m\u001b[0m\u001b[1;33m\u001b[0m\u001b[0m\n\u001b[0;32m   2452\u001b[0m     \u001b[1;32mif\u001b[0m \u001b[0m_CACHE_ACTIVE\u001b[0m\u001b[1;33m:\u001b[0m\u001b[1;33m\u001b[0m\u001b[1;33m\u001b[0m\u001b[0m\n\u001b[1;32m-> 2453\u001b[1;33m         \u001b[0mcpval\u001b[0m \u001b[1;33m=\u001b[0m \u001b[0m_CPO_VALUES_FROM_PYTHON\u001b[0m\u001b[1;33m.\u001b[0m\u001b[0mget_or_create\u001b[0m\u001b[1;33m(\u001b[0m\u001b[1;34m'tupleset'\u001b[0m\u001b[1;33m,\u001b[0m \u001b[0mval\u001b[0m\u001b[1;33m,\u001b[0m \u001b[0mnormalize_value\u001b[0m\u001b[1;33m,\u001b[0m \u001b[0m_create_cpo_tuple_set\u001b[0m\u001b[1;33m)\u001b[0m\u001b[1;33m\u001b[0m\u001b[1;33m\u001b[0m\u001b[0m\n\u001b[0m\u001b[0;32m   2454\u001b[0m     \u001b[1;32melse\u001b[0m\u001b[1;33m:\u001b[0m\u001b[1;33m\u001b[0m\u001b[1;33m\u001b[0m\u001b[0m\n\u001b[0;32m   2455\u001b[0m         \u001b[0mcpval\u001b[0m \u001b[1;33m=\u001b[0m \u001b[0m_create_cpo_tuple_set\u001b[0m\u001b[1;33m(\u001b[0m\u001b[0mnormalize_value\u001b[0m\u001b[1;33m(\u001b[0m\u001b[0mval\u001b[0m\u001b[1;33m)\u001b[0m\u001b[1;33m)\u001b[0m\u001b[1;33m\u001b[0m\u001b[1;33m\u001b[0m\u001b[0m\n",
      "\u001b[1;32m~\\anaconda3\\lib\\site-packages\\docplex\\cp\\expression.py\u001b[0m in \u001b[0;36mget_or_create\u001b[1;34m(self, tname, pexpr, kbldr, xbldr)\u001b[0m\n\u001b[0;32m   2297\u001b[0m         \u001b[1;31m# Build normalized value key (needed to check with previous value in case it has been changed)\u001b[0m\u001b[1;33m\u001b[0m\u001b[1;33m\u001b[0m\u001b[1;33m\u001b[0m\u001b[0m\n\u001b[0;32m   2298\u001b[0m         \u001b[1;32mtry\u001b[0m\u001b[1;33m:\u001b[0m\u001b[1;33m\u001b[0m\u001b[1;33m\u001b[0m\u001b[0m\n\u001b[1;32m-> 2299\u001b[1;33m             \u001b[0mkval\u001b[0m \u001b[1;33m=\u001b[0m \u001b[0mkbldr\u001b[0m\u001b[1;33m(\u001b[0m\u001b[0mpexpr\u001b[0m\u001b[1;33m)\u001b[0m\u001b[1;33m\u001b[0m\u001b[1;33m\u001b[0m\u001b[0m\n\u001b[0m\u001b[0;32m   2300\u001b[0m         \u001b[1;32mexcept\u001b[0m \u001b[0mTypeError\u001b[0m\u001b[1;33m:\u001b[0m\u001b[1;33m\u001b[0m\u001b[1;33m\u001b[0m\u001b[0m\n\u001b[0;32m   2301\u001b[0m            \u001b[1;32mraise\u001b[0m \u001b[0mCpoException\u001b[0m\u001b[1;33m(\u001b[0m\u001b[1;34m\"Impossible to build a CP Optimizer expression from value '{}' of type '{}'\"\u001b[0m\u001b[1;33m.\u001b[0m\u001b[0mformat\u001b[0m\u001b[1;33m(\u001b[0m\u001b[0mto_string\u001b[0m\u001b[1;33m(\u001b[0m\u001b[0mpexpr\u001b[0m\u001b[1;33m)\u001b[0m\u001b[1;33m,\u001b[0m \u001b[0mtype\u001b[0m\u001b[1;33m(\u001b[0m\u001b[0mpexpr\u001b[0m\u001b[1;33m)\u001b[0m\u001b[1;33m)\u001b[0m\u001b[1;33m)\u001b[0m\u001b[1;33m\u001b[0m\u001b[1;33m\u001b[0m\u001b[0m\n",
      "\u001b[1;32m~\\anaconda3\\lib\\site-packages\\docplex\\cp\\expression.py\u001b[0m in \u001b[0;36mnormalize_value\u001b[1;34m(val)\u001b[0m\n\u001b[0;32m   2442\u001b[0m             \u001b[1;32mreturn\u001b[0m \u001b[0mtuple\u001b[0m\u001b[1;33m(\u001b[0m\u001b[0mtuple\u001b[0m\u001b[1;33m(\u001b[0m\u001b[0mx\u001b[0m\u001b[1;33m)\u001b[0m \u001b[1;32mfor\u001b[0m \u001b[0mx\u001b[0m \u001b[1;32min\u001b[0m \u001b[0mval\u001b[0m\u001b[1;33m)\u001b[0m\u001b[1;33m\u001b[0m\u001b[1;33m\u001b[0m\u001b[0m\n\u001b[0;32m   2443\u001b[0m         \u001b[1;32mexcept\u001b[0m \u001b[0mTypeError\u001b[0m\u001b[1;33m:\u001b[0m\u001b[1;33m\u001b[0m\u001b[1;33m\u001b[0m\u001b[0m\n\u001b[1;32m-> 2444\u001b[1;33m            \u001b[1;32mraise\u001b[0m \u001b[0mCpoException\u001b[0m\u001b[1;33m(\u001b[0m\u001b[1;34m\"Impossible to build a tuple set from value '{}' of type '{}'\"\u001b[0m\u001b[1;33m.\u001b[0m\u001b[0mformat\u001b[0m\u001b[1;33m(\u001b[0m\u001b[0mto_string\u001b[0m\u001b[1;33m(\u001b[0m\u001b[0mval\u001b[0m\u001b[1;33m)\u001b[0m\u001b[1;33m,\u001b[0m \u001b[0mtype\u001b[0m\u001b[1;33m(\u001b[0m\u001b[0mval\u001b[0m\u001b[1;33m)\u001b[0m\u001b[1;33m)\u001b[0m\u001b[1;33m)\u001b[0m\u001b[1;33m\u001b[0m\u001b[1;33m\u001b[0m\u001b[0m\n\u001b[0m\u001b[0;32m   2445\u001b[0m \u001b[1;33m\u001b[0m\u001b[0m\n\u001b[0;32m   2446\u001b[0m \u001b[1;33m\u001b[0m\u001b[0m\n",
      "\u001b[1;31mCpoException\u001b[0m: Impossible to build a tuple set from value '[18, 20, 13, 13, 24, []]' of type '<class 'list'>'"
     ]
    }
   ],
   "source": [
    "play_wordle('5-letter-words.csv')"
   ]
  },
  {
   "cell_type": "code",
   "execution_count": null,
   "metadata": {
    "hidden": true
   },
   "outputs": [],
   "source": []
  },
  {
   "cell_type": "code",
   "execution_count": null,
   "metadata": {},
   "outputs": [],
   "source": []
  },
  {
   "cell_type": "code",
   "execution_count": null,
   "metadata": {},
   "outputs": [],
   "source": []
  },
  {
   "cell_type": "code",
   "execution_count": null,
   "metadata": {},
   "outputs": [],
   "source": []
  },
  {
   "cell_type": "code",
   "execution_count": null,
   "metadata": {},
   "outputs": [],
   "source": []
  },
  {
   "cell_type": "code",
   "execution_count": null,
   "metadata": {},
   "outputs": [],
   "source": []
  },
  {
   "cell_type": "code",
   "execution_count": null,
   "metadata": {},
   "outputs": [],
   "source": []
  }
 ],
 "metadata": {
  "kernelspec": {
   "display_name": "Python 3",
   "language": "python",
   "name": "python3"
  },
  "language_info": {
   "codemirror_mode": {
    "name": "ipython",
    "version": 3
   },
   "file_extension": ".py",
   "mimetype": "text/x-python",
   "name": "python",
   "nbconvert_exporter": "python",
   "pygments_lexer": "ipython3",
   "version": "3.8.8"
  },
  "varInspector": {
   "cols": {
    "lenName": 16,
    "lenType": 16,
    "lenVar": 40
   },
   "kernels_config": {
    "python": {
     "delete_cmd_postfix": "",
     "delete_cmd_prefix": "del ",
     "library": "var_list.py",
     "varRefreshCmd": "print(var_dic_list())"
    },
    "r": {
     "delete_cmd_postfix": ") ",
     "delete_cmd_prefix": "rm(",
     "library": "var_list.r",
     "varRefreshCmd": "cat(var_dic_list()) "
    }
   },
   "types_to_exclude": [
    "module",
    "function",
    "builtin_function_or_method",
    "instance",
    "_Feature"
   ],
   "window_display": false
  }
 },
 "nbformat": 4,
 "nbformat_minor": 4
}
